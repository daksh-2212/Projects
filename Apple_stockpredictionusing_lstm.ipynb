{
  "cells": [
    {
      "cell_type": "markdown",
      "metadata": {
        "id": "view-in-github",
        "colab_type": "text"
      },
      "source": [
        "<a href=\"https://colab.research.google.com/github/daksh-2212/Projects/blob/main/Apple_stockpredictionusing_lstm.ipynb\" target=\"_parent\"><img src=\"https://colab.research.google.com/assets/colab-badge.svg\" alt=\"Open In Colab\"/></a>"
      ]
    },
    {
      "cell_type": "code",
      "execution_count": null,
      "metadata": {
        "id": "sRk5b6RELW7s"
      },
      "outputs": [],
      "source": [
        "import pandas as pd\n",
        "import numpy as np\n",
        "from numpy import array \n",
        "import math\n",
        "import matplotlib.pyplot as plt\n",
        "from sklearn.preprocessing import MinMaxScaler \n",
        "import tensorflow as tf\n",
        "from tensorflow.keras.models import Sequential\n",
        "from tensorflow.keras.layers import Dense\n",
        "from tensorflow.keras.layers import LSTM\n",
        "%matplotlib inline"
      ]
    },
    {
      "cell_type": "code",
      "execution_count": null,
      "metadata": {
        "colab": {
          "base_uri": "https://localhost:8080/",
          "height": 337
        },
        "id": "tPajC0XIM26t",
        "outputId": "81d83f5b-172e-4f51-9b92-1a5e402a97bb"
      },
      "outputs": [
        {
          "output_type": "execute_result",
          "data": {
            "text/html": [
              "\n",
              "  <div id=\"df-8fe6a179-55b7-4e20-a764-82e00af895c5\">\n",
              "    <div class=\"colab-df-container\">\n",
              "      <div>\n",
              "<style scoped>\n",
              "    .dataframe tbody tr th:only-of-type {\n",
              "        vertical-align: middle;\n",
              "    }\n",
              "\n",
              "    .dataframe tbody tr th {\n",
              "        vertical-align: top;\n",
              "    }\n",
              "\n",
              "    .dataframe thead th {\n",
              "        text-align: right;\n",
              "    }\n",
              "</style>\n",
              "<table border=\"1\" class=\"dataframe\">\n",
              "  <thead>\n",
              "    <tr style=\"text-align: right;\">\n",
              "      <th></th>\n",
              "      <th>Date</th>\n",
              "      <th>Open</th>\n",
              "      <th>High</th>\n",
              "      <th>Low</th>\n",
              "      <th>Close</th>\n",
              "      <th>Adj Close</th>\n",
              "      <th>Volume</th>\n",
              "    </tr>\n",
              "  </thead>\n",
              "  <tbody>\n",
              "    <tr>\n",
              "      <th>0</th>\n",
              "      <td>21-12-2020</td>\n",
              "      <td>125.019997</td>\n",
              "      <td>128.309998</td>\n",
              "      <td>123.449997</td>\n",
              "      <td>128.229996</td>\n",
              "      <td>127.444336</td>\n",
              "      <td>121251600</td>\n",
              "    </tr>\n",
              "    <tr>\n",
              "      <th>1</th>\n",
              "      <td>22-12-2020</td>\n",
              "      <td>131.610001</td>\n",
              "      <td>134.410004</td>\n",
              "      <td>129.649994</td>\n",
              "      <td>131.880005</td>\n",
              "      <td>131.071976</td>\n",
              "      <td>168904800</td>\n",
              "    </tr>\n",
              "    <tr>\n",
              "      <th>2</th>\n",
              "      <td>23-12-2020</td>\n",
              "      <td>132.160004</td>\n",
              "      <td>132.429993</td>\n",
              "      <td>130.779999</td>\n",
              "      <td>130.960007</td>\n",
              "      <td>130.157623</td>\n",
              "      <td>88223700</td>\n",
              "    </tr>\n",
              "    <tr>\n",
              "      <th>3</th>\n",
              "      <td>24-12-2020</td>\n",
              "      <td>131.320007</td>\n",
              "      <td>133.460007</td>\n",
              "      <td>131.100006</td>\n",
              "      <td>131.970001</td>\n",
              "      <td>131.161407</td>\n",
              "      <td>54930100</td>\n",
              "    </tr>\n",
              "    <tr>\n",
              "      <th>4</th>\n",
              "      <td>28-12-2020</td>\n",
              "      <td>133.990005</td>\n",
              "      <td>137.339996</td>\n",
              "      <td>133.509995</td>\n",
              "      <td>136.690002</td>\n",
              "      <td>135.852509</td>\n",
              "      <td>124486200</td>\n",
              "    </tr>\n",
              "  </tbody>\n",
              "</table>\n",
              "</div>\n",
              "      <button class=\"colab-df-convert\" onclick=\"convertToInteractive('df-8fe6a179-55b7-4e20-a764-82e00af895c5')\"\n",
              "              title=\"Convert this dataframe to an interactive table.\"\n",
              "              style=\"display:none;\">\n",
              "        \n",
              "  <svg xmlns=\"http://www.w3.org/2000/svg\" height=\"24px\"viewBox=\"0 0 24 24\"\n",
              "       width=\"24px\">\n",
              "    <path d=\"M0 0h24v24H0V0z\" fill=\"none\"/>\n",
              "    <path d=\"M18.56 5.44l.94 2.06.94-2.06 2.06-.94-2.06-.94-.94-2.06-.94 2.06-2.06.94zm-11 1L8.5 8.5l.94-2.06 2.06-.94-2.06-.94L8.5 2.5l-.94 2.06-2.06.94zm10 10l.94 2.06.94-2.06 2.06-.94-2.06-.94-.94-2.06-.94 2.06-2.06.94z\"/><path d=\"M17.41 7.96l-1.37-1.37c-.4-.4-.92-.59-1.43-.59-.52 0-1.04.2-1.43.59L10.3 9.45l-7.72 7.72c-.78.78-.78 2.05 0 2.83L4 21.41c.39.39.9.59 1.41.59.51 0 1.02-.2 1.41-.59l7.78-7.78 2.81-2.81c.8-.78.8-2.07 0-2.86zM5.41 20L4 18.59l7.72-7.72 1.47 1.35L5.41 20z\"/>\n",
              "  </svg>\n",
              "      </button>\n",
              "      \n",
              "  <style>\n",
              "    .colab-df-container {\n",
              "      display:flex;\n",
              "      flex-wrap:wrap;\n",
              "      gap: 12px;\n",
              "    }\n",
              "\n",
              "    .colab-df-convert {\n",
              "      background-color: #E8F0FE;\n",
              "      border: none;\n",
              "      border-radius: 50%;\n",
              "      cursor: pointer;\n",
              "      display: none;\n",
              "      fill: #1967D2;\n",
              "      height: 32px;\n",
              "      padding: 0 0 0 0;\n",
              "      width: 32px;\n",
              "    }\n",
              "\n",
              "    .colab-df-convert:hover {\n",
              "      background-color: #E2EBFA;\n",
              "      box-shadow: 0px 1px 2px rgba(60, 64, 67, 0.3), 0px 1px 3px 1px rgba(60, 64, 67, 0.15);\n",
              "      fill: #174EA6;\n",
              "    }\n",
              "\n",
              "    [theme=dark] .colab-df-convert {\n",
              "      background-color: #3B4455;\n",
              "      fill: #D2E3FC;\n",
              "    }\n",
              "\n",
              "    [theme=dark] .colab-df-convert:hover {\n",
              "      background-color: #434B5C;\n",
              "      box-shadow: 0px 1px 3px 1px rgba(0, 0, 0, 0.15);\n",
              "      filter: drop-shadow(0px 1px 2px rgba(0, 0, 0, 0.3));\n",
              "      fill: #FFFFFF;\n",
              "    }\n",
              "  </style>\n",
              "\n",
              "      <script>\n",
              "        const buttonEl =\n",
              "          document.querySelector('#df-8fe6a179-55b7-4e20-a764-82e00af895c5 button.colab-df-convert');\n",
              "        buttonEl.style.display =\n",
              "          google.colab.kernel.accessAllowed ? 'block' : 'none';\n",
              "\n",
              "        async function convertToInteractive(key) {\n",
              "          const element = document.querySelector('#df-8fe6a179-55b7-4e20-a764-82e00af895c5');\n",
              "          const dataTable =\n",
              "            await google.colab.kernel.invokeFunction('convertToInteractive',\n",
              "                                                     [key], {});\n",
              "          if (!dataTable) return;\n",
              "\n",
              "          const docLinkHtml = 'Like what you see? Visit the ' +\n",
              "            '<a target=\"_blank\" href=https://colab.research.google.com/notebooks/data_table.ipynb>data table notebook</a>'\n",
              "            + ' to learn more about interactive tables.';\n",
              "          element.innerHTML = '';\n",
              "          dataTable['output_type'] = 'display_data';\n",
              "          await google.colab.output.renderOutput(dataTable, element);\n",
              "          const docLink = document.createElement('div');\n",
              "          docLink.innerHTML = docLinkHtml;\n",
              "          element.appendChild(docLink);\n",
              "        }\n",
              "      </script>\n",
              "    </div>\n",
              "  </div>\n",
              "  "
            ],
            "text/plain": [
              "         Date        Open        High  ...       Close   Adj Close     Volume\n",
              "0  21-12-2020  125.019997  128.309998  ...  128.229996  127.444336  121251600\n",
              "1  22-12-2020  131.610001  134.410004  ...  131.880005  131.071976  168904800\n",
              "2  23-12-2020  132.160004  132.429993  ...  130.960007  130.157623   88223700\n",
              "3  24-12-2020  131.320007  133.460007  ...  131.970001  131.161407   54930100\n",
              "4  28-12-2020  133.990005  137.339996  ...  136.690002  135.852509  124486200\n",
              "\n",
              "[5 rows x 7 columns]"
            ]
          },
          "metadata": {},
          "execution_count": 3
        }
      ],
      "source": [
        "df=pd.read_csv(\"AAPL.csv\")\n",
        "df.head()"
      ]
    },
    {
      "cell_type": "code",
      "execution_count": null,
      "metadata": {
        "colab": {
          "base_uri": "https://localhost:8080/"
        },
        "id": "idPIwgUON2H3",
        "outputId": "52f49b4a-4eb0-45f0-f416-af4f0bb626ea"
      },
      "outputs": [
        {
          "output_type": "execute_result",
          "data": {
            "text/plain": [
              "(252, 7)"
            ]
          },
          "metadata": {},
          "execution_count": 4
        }
      ],
      "source": [
        "df.shape"
      ]
    },
    {
      "cell_type": "code",
      "execution_count": null,
      "metadata": {
        "colab": {
          "base_uri": "https://localhost:8080/"
        },
        "id": "SC4pKEu7OAGG",
        "outputId": "64301a54-ac65-4856-bb5f-4ce6f2e52a69"
      },
      "outputs": [
        {
          "output_type": "execute_result",
          "data": {
            "text/plain": [
              "0      128.229996\n",
              "1      131.880005\n",
              "2      130.960007\n",
              "3      131.970001\n",
              "4      136.690002\n",
              "          ...    \n",
              "247    174.330002\n",
              "248    179.300003\n",
              "249    172.259995\n",
              "250    171.139999\n",
              "251    169.809998\n",
              "Name: Close, Length: 252, dtype: float64"
            ]
          },
          "metadata": {},
          "execution_count": 5
        }
      ],
      "source": [
        "df1=df.reset_index()['Close'];df1"
      ]
    },
    {
      "cell_type": "code",
      "execution_count": null,
      "metadata": {
        "colab": {
          "base_uri": "https://localhost:8080/",
          "height": 265
        },
        "id": "XT9c7WM6Ohn9",
        "outputId": "3c9f021f-6b08-465e-e02e-344959ecdc3f"
      },
      "outputs": [
        {
          "output_type": "display_data",
          "data": {
            "image/png": "[encoded data removed]",
            "text/plain": [
              "<Figure size 432x288 with 1 Axes>"
            ]
          },
          "metadata": {
            "needs_background": "light"
          }
        }
      ],
      "source": [
        "plt.plot(df1);plt.show()"
      ]
    },
    {
      "cell_type": "code",
      "execution_count": null,
      "metadata": {
        "colab": {
          "base_uri": "https://localhost:8080/"
        },
        "id": "0eirl7p_Os2N",
        "outputId": "96e1c764-d326-4f6f-a63f-2af32a76780f"
      },
      "outputs": [
        {
          "output_type": "execute_result",
          "data": {
            "text/plain": [
              "array([[0.18814385],\n",
              "       [0.24599786],\n",
              "       [0.23141555],\n",
              "       [0.24742433],\n",
              "       [0.32223811],\n",
              "       [0.29339032],\n",
              "       [0.27516248],\n",
              "       [0.25883661],\n",
              "       [0.20684742],\n",
              "       [0.23220788],\n",
              "       [0.16230778],\n",
              "       [0.23078139],\n",
              "       [0.24869239],\n",
              "       [0.20003163],\n",
              "       [0.19717868],\n",
              "       [0.2303059 ],\n",
              "       [0.19892223],\n",
              "       [0.17086699],\n",
              "       [0.1818038 ],\n",
              "       [0.24837532],\n",
              "       [0.32509107],\n",
              "       [0.35996208],\n",
              "       [0.42098587],\n",
              "       [0.42479006],\n",
              "       [0.40735455],\n",
              "       [0.32857816],\n",
              "       [0.24726592],\n",
              "       [0.28181961],\n",
              "       [0.29529252],\n",
              "       [0.27864958],\n",
              "       [0.33333332],\n",
              "       [0.32334752],\n",
              "       [0.32572522],\n",
              "       [0.31145974],\n",
              "       [0.30163258],\n",
              "       [0.29751157],\n",
              "       [0.3013155 ],\n",
              "       [0.2667618 ],\n",
              "       [0.22951333],\n",
              "       [0.21160258],\n",
              "       [0.21413845],\n",
              "       [0.15279758],\n",
              "       [0.15057855],\n",
              "       [0.14249481],\n",
              "       [0.07338718],\n",
              "       [0.07766685],\n",
              "       [0.18116977],\n",
              "       [0.1388493 ],\n",
              "       [0.09034708],\n",
              "       [0.05975584],\n",
              "       [0.08020284],\n",
              "       [0.        ],\n",
              "       [0.07497219],\n",
              "       [0.05737838],\n",
              "       [0.08876206],\n",
              "       [0.07402121],\n",
              "       [0.1209383 ],\n",
              "       [0.14598192],\n",
              "       [0.13314315],\n",
              "       [0.06609603],\n",
              "       [0.05753681],\n",
              "       [0.11142809],\n",
              "       [0.09795531],\n",
              "       [0.05912181],\n",
              "       [0.067047  ],\n",
              "       [0.07687428],\n",
              "       [0.07972735],\n",
              "       [0.05611034],\n",
              "       [0.09177368],\n",
              "       [0.10524646],\n",
              "       [0.15121258],\n",
              "       [0.15612615],\n",
              "       [0.18291333],\n",
              "       [0.22190523],\n",
              "       [0.2637502 ],\n",
              "       [0.23585362],\n",
              "       [0.28641612],\n",
              "       [0.24837532],\n",
              "       [0.28752576],\n",
              "       [0.2821367 ],\n",
              "       [0.29291482],\n",
              "       [0.26549376],\n",
              "       [0.27167539],\n",
              "       [0.24694883],\n",
              "       [0.2846728 ],\n",
              "       [0.29101286],\n",
              "       [0.2857822 ],\n",
              "       [0.27294345],\n",
              "       [0.27135831],\n",
              "       [0.23934073],\n",
              "       [0.25645892],\n",
              "       [0.18212074],\n",
              "       [0.18608346],\n",
              "       [0.21207806],\n",
              "       [0.21952777],\n",
              "       [0.16627037],\n",
              "       [0.15137111],\n",
              "       [0.10160083],\n",
              "       [0.13647172],\n",
              "       [0.17578058],\n",
              "       [0.15707714],\n",
              "       [0.13456962],\n",
              "       [0.13203363],\n",
              "       [0.17356154],\n",
              "       [0.14376287],\n",
              "       [0.17023296],\n",
              "       [0.16706295],\n",
              "       [0.16627037],\n",
              "       [0.1413853 ],\n",
              "       [0.13076558],\n",
              "       [0.12553493],\n",
              "       [0.1378982 ],\n",
              "       [0.11380568],\n",
              "       [0.15105403],\n",
              "       [0.15121258],\n",
              "       [0.16452683],\n",
              "       [0.17070846],\n",
              "       [0.15454114],\n",
              "       [0.17419556],\n",
              "       [0.22380719],\n",
              "       [0.21049293],\n",
              "       [0.21857654],\n",
              "       [0.24457114],\n",
              "       [0.22349036],\n",
              "       [0.25265499],\n",
              "       [0.2792835 ],\n",
              "       [0.27484541],\n",
              "       [0.27024892],\n",
              "       [0.26549376],\n",
              "       [0.29196385],\n",
              "       [0.31653197],\n",
              "       [0.32651779],\n",
              "       [0.33143136],\n",
              "       [0.37406891],\n",
              "       [0.40672063],\n",
              "       [0.44713913],\n",
              "       [0.4260581 ],\n",
              "       [0.45569824],\n",
              "       [0.44602949],\n",
              "       [0.4640989 ],\n",
              "       [0.51973364],\n",
              "       [0.50911392],\n",
              "       [0.47598668],\n",
              "       [0.41353618],\n",
              "       [0.47218252],\n",
              "       [0.46029474],\n",
              "       [0.4824854 ],\n",
              "       [0.51038198],\n",
              "       [0.51719775],\n",
              "       [0.48200991],\n",
              "       [0.45363761],\n",
              "       [0.4640989 ],\n",
              "       [0.46758602],\n",
              "       [0.46219694],\n",
              "       [0.49136158],\n",
              "       [0.48486286],\n",
              "       [0.48660642],\n",
              "       [0.47202409],\n",
              "       [0.47123152],\n",
              "       [0.463465  ],\n",
              "       [0.46758602],\n",
              "       [0.51561262],\n",
              "       [0.51894131],\n",
              "       [0.55095889],\n",
              "       [0.53621815],\n",
              "       [0.4755112 ],\n",
              "       [0.48090027],\n",
              "       [0.5045174 ],\n",
              "       [0.52861005],\n",
              "       [0.52718333],\n",
              "       [0.50721195],\n",
              "       [0.49421452],\n",
              "       [0.51101612],\n",
              "       [0.58265963],\n",
              "       [0.56221276],\n",
              "       [0.57299091],\n",
              "       [0.59106032],\n",
              "       [0.6013632 ],\n",
              "       [0.63924558],\n",
              "       [0.61420197],\n",
              "       [0.59771768],\n",
              "       [0.51688068],\n",
              "       [0.52607393],\n",
              "       [0.50340777],\n",
              "       [0.51783167],\n",
              "       [0.51402749],\n",
              "       [0.47075605],\n",
              "       [0.42130294],\n",
              "       [0.42906948],\n",
              "       [0.46742759],\n",
              "       [0.4829609 ],\n",
              "       [0.48438737],\n",
              "       [0.45981924],\n",
              "       [0.40497709],\n",
              "       [0.4195594 ],\n",
              "       [0.39847837],\n",
              "       [0.41670621],\n",
              "       [0.36107148],\n",
              "       [0.39229674],\n",
              "       [0.40640356],\n",
              "       [0.42685043],\n",
              "       [0.4206688 ],\n",
              "       [0.41924233],\n",
              "       [0.3986368 ],\n",
              "       [0.38912672],\n",
              "       [0.43430014],\n",
              "       [0.45141856],\n",
              "       [0.47852281],\n",
              "       [0.51355201],\n",
              "       [0.52147719],\n",
              "       [0.52496429],\n",
              "       [0.51244259],\n",
              "       [0.51165002],\n",
              "       [0.52242841],\n",
              "       [0.51497871],\n",
              "       [0.57394212],\n",
              "       [0.53003652],\n",
              "       [0.51672227],\n",
              "       [0.53352362],\n",
              "       [0.55682368],\n",
              "       [0.54842302],\n",
              "       [0.55349501],\n",
              "       [0.54018074],\n",
              "       [0.54604532],\n",
              "       [0.50023774],\n",
              "       [0.49944517],\n",
              "       [0.53304812],\n",
              "       [0.53320655],\n",
              "       [0.54905692],\n",
              "       [0.58852443],\n",
              "       [0.65794891],\n",
              "       [0.70042804],\n",
              "       [0.70787773],\n",
              "       [0.71405937],\n",
              "       [0.72246004],\n",
              "       [0.64114756],\n",
              "       [0.69551445],\n",
              "       [0.77571731],\n",
              "       [0.76731663],\n",
              "       [0.75130761],\n",
              "       [0.72087491],\n",
              "       [0.77603438],\n",
              "       [0.86891735],\n",
              "       [0.93073395],\n",
              "       [0.92249169],\n",
              "       [1.        ],\n",
              "       [0.94119524],\n",
              "       [0.91884617],\n",
              "       [0.99762254],\n",
              "       [0.88603578],\n",
              "       [0.86828343],\n",
              "       [0.84720242]])"
            ]
          },
          "metadata": {},
          "execution_count": 7
        }
      ],
      "source": [
        "scaler=MinMaxScaler(feature_range=(0,1))\n",
        "df1=scaler.fit_transform(np.array(df1).reshape(-1,1));df1"
      ]
    },
    {
      "cell_type": "code",
      "execution_count": null,
      "metadata": {
        "colab": {
          "base_uri": "https://localhost:8080/"
        },
        "id": "zXfIlt7BQloY",
        "outputId": "6c61b428-ac00-485c-ddf9-7a913e55b73a"
      },
      "outputs": [
        {
          "output_type": "stream",
          "name": "stdout",
          "text": [
            "163 89\n"
          ]
        }
      ],
      "source": [
        "# splitting dataset into train and test split\n",
        "training_size=int (len(df1)*0.65)\n",
        "test_size=len(df1)-training_size\n",
        "train_data=df1[0:training_size,:]\n",
        "test_data=df1[training_size:len(df1),:1]\n",
        "print(training_size,test_size)"
      ]
    },
    {
      "cell_type": "code",
      "execution_count": null,
      "metadata": {
        "id": "PsMbSZLdSIZU"
      },
      "outputs": [],
      "source": [
        "#convert an array of values into a dataset matrix\n",
        "def create_dataset(dataset, time_step=1):\n",
        "    dataX, dataY = [], []\n",
        "    for i in range(len(dataset)-time_step-1):\n",
        "        a = dataset[i:(i+time_step), 0]   ###i=0, 0,1,2,3-----99   100 \n",
        "        dataX.append(a)\n",
        "        dataY.append(dataset[i + time_step, 0])\n",
        "    return np.array(dataX), np.array(dataY)"
      ]
    },
    {
      "cell_type": "code",
      "source": [
        "print(X_train.shape), print(y_train.shape),print(X_test.shape), print(ytest.shape)"
      ],
      "metadata": {
        "colab": {
          "base_uri": "https://localhost:8080/"
        },
        "id": "vwK9VRYb2cTw",
        "outputId": "6b4d0352-6849-4b9d-baf3-149f0392223a"
      },
      "execution_count": null,
      "outputs": [
        {
          "output_type": "stream",
          "name": "stdout",
          "text": [
            "(62, 100, 1)\n",
            "(62,)\n",
            "(0,)\n",
            "(0,)\n"
          ]
        },
        {
          "output_type": "execute_result",
          "data": {
            "text/plain": [
              "(None, None, None, None)"
            ]
          },
          "metadata": {},
          "execution_count": 47
        }
      ]
    },
    {
      "cell_type": "code",
      "source": [
        "# creating the lstm model\n",
        "model=Sequential()\n",
        "model.add(LSTM(50,return_sequences=True,input_shape=(100,1)))\n",
        "model.add(LSTM(50,return_sequences=True))\n",
        "model.add(LSTM(50))\n",
        "model.add(Dense(1))\n",
        "model.compile(loss='mse',optimizer='adam')\n",
        "model.summary()\n",
        "\n",
        "                                                          \n"
      ],
      "metadata": {
        "colab": {
          "base_uri": "https://localhost:8080/"
        },
        "id": "9-PfI4R94Zz0",
        "outputId": "0192ce61-a26e-44b4-a074-32478b473202"
      },
      "execution_count": null,
      "outputs": [
        {
          "output_type": "stream",
          "name": "stdout",
          "text": [
            "Model: \"sequential\"\n",
            "_________________________________________________________________\n",
            " Layer (type)                Output Shape              Param #   \n",
            "=================================================================\n",
            " lstm (LSTM)                 (None, 100, 50)           10400     \n",
            "                                                                 \n",
            " lstm_1 (LSTM)               (None, 100, 50)           20200     \n",
            "                                                                 \n",
            " lstm_2 (LSTM)               (None, 50)                20200     \n",
            "                                                                 \n",
            " dense (Dense)               (None, 1)                 51        \n",
            "                                                                 \n",
            "=================================================================\n",
            "Total params: 50,851\n",
            "Trainable params: 50,851\n",
            "Non-trainable params: 0\n",
            "_________________________________________________________________\n"
          ]
        }
      ]
    }
  ],
  "metadata": {
    "colab": {
      "provenance": [],
      "authorship_tag": "ABX9TyOjScxunaIuTwOcqiKR/5Nq",
      "include_colab_link": true
    },
    "kernelspec": {
      "display_name": "Python 3",
      "name": "python3"
    },
    "language_info": {
      "name": "python"
    }
  },
  "nbformat": 4,
  "nbformat_minor": 0
}